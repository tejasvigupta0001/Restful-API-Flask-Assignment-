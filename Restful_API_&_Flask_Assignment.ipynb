{
  "nbformat": 4,
  "nbformat_minor": 0,
  "metadata": {
    "colab": {
      "provenance": []
    },
    "kernelspec": {
      "name": "python3",
      "display_name": "Python 3"
    },
    "language_info": {
      "name": "python"
    }
  },
  "cells": [
    {
      "cell_type": "markdown",
      "source": [
        "**Restful API & Flask**\n"
      ],
      "metadata": {
        "id": "cd2K-xoVKcKT"
      }
    },
    {
      "cell_type": "markdown",
      "source": [
        "1. What is a RESTful API?\n",
        "> A RESTful API (Representational State Transfer API) is a web service that follows REST principles, enabling communication between client and server using HTTP methods like GET, POST, PUT, and DELETE. It is stateless and uses resources identified by URLs."
      ],
      "metadata": {
        "id": "zwfY0bLFKmDh"
      }
    },
    {
      "cell_type": "markdown",
      "source": [
        "2.  Explain the concept of API specification.\n",
        "> An API specification is a document or standard that defines how an API should behave. It includes details like endpoints, request/response formats, authentication methods, and error handling. Examples include OpenAPI (Swagger) and RAML."
      ],
      "metadata": {
        "id": "UZZDepqzK3H9"
      }
    },
    {
      "cell_type": "markdown",
      "source": [
        "3. What is Flask, and why is it popular for building APIs?\n",
        "> Flask is a lightweight and flexible Python web framework used for developing APIs and web applications. It is popular because of its simplicity, minimal dependencies, built-in development server, and support for extensions like Flask-RESTful."
      ],
      "metadata": {
        "id": "I3QoiqOnLfAL"
      }
    },
    {
      "cell_type": "markdown",
      "source": [
        "4. What is routing in Flask?\n",
        "> Routing in Flask refers to mapping URLs to specific functions that handle requests. This is done using the @app.route() decorator."
      ],
      "metadata": {
        "id": "ZSUgkDsPLunF"
      }
    },
    {
      "cell_type": "markdown",
      "source": [
        "5.  How do you create a simple Flask application?\n",
        "> from flask import Flask\n",
        "\n",
        "app = Flask(__name__)\n",
        "\n",
        "@app.route('/')\n",
        "def home():\n",
        "    return \"Hello, Flask!\"\n",
        "\n",
        "if __name__ == '__main__':\n",
        "    app.run(debug=True)\n"
      ],
      "metadata": {
        "id": "5ZHSQmkkL5ug"
      }
    },
    {
      "cell_type": "markdown",
      "source": [
        "6. What are HTTP methods used in RESTful APIs?\n",
        "> Common HTTP methods used in RESTful APIs are:\n",
        "  •\tGET: Retrieve data\n",
        "  •\tPOST: Create new data\n",
        "  •\tPUT: Update existing data\n",
        "  •\tDELETE: Remove data\n",
        "  •\tPATCH: Partially update data\n"
      ],
      "metadata": {
        "id": "-DPYvG6qMIwT"
      }
    },
    {
      "cell_type": "markdown",
      "source": [
        "7. What is the purpose of the @app.route() decorator in Flask?\n",
        "> The @app.route() decorator is used to define URL routes and link them to specific functions that handle requests."
      ],
      "metadata": {
        "id": "HnVdIzl-MkX8"
      }
    },
    {
      "cell_type": "markdown",
      "source": [
        "8. What is the difference between GET and POST HTTP methods?\n",
        "> •\tGET: Used to retrieve data from the server, does not modify resources.\n",
        "\n",
        "   •\tPOST: Used to send data to the server, typically to create new resources.\n"
      ],
      "metadata": {
        "id": "8nXPNJKDNLqf"
      }
    },
    {
      "cell_type": "markdown",
      "source": [
        "9.  How do you handle errors in Flask APIs?\n",
        "> Error handling can be done using Flask’s @app.errorhandler() decorator:\n",
        "from flask import jsonify\n",
        "\n",
        "@app.errorhandler(404)\n",
        "def not_found(error):\n",
        "    return jsonify({'error': 'Not Found'}), 404\n"
      ],
      "metadata": {
        "id": "6a6bHCwhNgYb"
      }
    },
    {
      "cell_type": "markdown",
      "source": [
        "10. How do you connect Flask to a SQL database?\n",
        "> Using Flask-SQLAlchemy:\n",
        "from flask_sqlalchemy import SQLAlchemy\n",
        "\n",
        "app.config['SQLALCHEMY_DATABASE_URI'] = 'sqlite:///database.db'\n",
        "db = SQLAlchemy(app)\n"
      ],
      "metadata": {
        "id": "ekVXL3PvNtHf"
      }
    },
    {
      "cell_type": "markdown",
      "source": [
        "11. What is the role of Flask-SQLAlchemy?\n",
        "> Flask-SQLAlchemy provides ORM (Object Relational Mapping) capabilities, making it easier to interact with databases using Python classes instead of raw SQL queries."
      ],
      "metadata": {
        "id": "FW7TV0HZN7qV"
      }
    },
    {
      "cell_type": "markdown",
      "source": [
        "12. What are Flask blueprints, and how are they useful?\n",
        "> Blueprints allow modular organization of Flask applications, enabling code reuse and separation of concerns."
      ],
      "metadata": {
        "id": "Jo7mMUDNOJmF"
      }
    },
    {
      "cell_type": "markdown",
      "source": [
        "13. What is the purpose of Flask's request object?\n",
        "> The request object is used to access incoming request data, including form data, JSON payloads, and headers."
      ],
      "metadata": {
        "id": "w0BM0dVqOhix"
      }
    },
    {
      "cell_type": "markdown",
      "source": [
        "14. How do you create a RESTful API endpoint using Flask?\n",
        "> from flask import Flask, jsonify\n",
        "\n",
        "app = Flask(__name__)\n",
        "\n",
        "@app.route('/api/data', methods=['GET'])\n",
        "def get_data():\n",
        "    return jsonify({'message': 'Hello, API'})\n",
        "\n",
        "if __name__ == '__main__':\n",
        "    app.run(debug=True)\n",
        "\n"
      ],
      "metadata": {
        "id": "Wa3h4x2JOzkU"
      }
    },
    {
      "cell_type": "markdown",
      "source": [
        "15. What is the purpose of Flask's jsonify() function?\n",
        "> The jsonify() function converts Python dictionaries into JSON responses."
      ],
      "metadata": {
        "id": "dtoqg1DHPFW1"
      }
    },
    {
      "cell_type": "markdown",
      "source": [
        "16. Explain Flask’s url_for() function.\n",
        "> The url_for() function generates URLs dynamically for defined routes, preventing hardcoding:\n",
        "url_for('home')\n"
      ],
      "metadata": {
        "id": "00EvPvn_PS0N"
      }
    },
    {
      "cell_type": "markdown",
      "source": [
        "17. How does Flask handle static files (CSS, JavaScript, etc.)?\n",
        "> Static files are stored in the static folder and accessed via /static/filename.\n"
      ],
      "metadata": {
        "id": "J10TMZwAPjwU"
      }
    },
    {
      "cell_type": "markdown",
      "source": [
        "18. What is an API specification, and how does it help in building a Flask API?\n",
        "> API specifications define the API's structure and behavior, ensuring consistency and compatibility across implementations.\n"
      ],
      "metadata": {
        "id": "JL4WKPiXPqn0"
      }
    },
    {
      "cell_type": "markdown",
      "source": [
        "19. What are HTTP status codes, and why are they important in a Flask API?\n",
        "> HTTP status codes indicate the response status, e.g.,\n",
        "•\t200 OK – Success\n",
        "•\t400 Bad Request – Client error\n",
        "•\t500 Internal Server Error – Server error\n"
      ],
      "metadata": {
        "id": "UUGTV5cIPzH6"
      }
    },
    {
      "cell_type": "markdown",
      "source": [
        "20. How do you handle POST requests in Flask?\n",
        "> from flask import request\n",
        "\n",
        "@app.route('/submit', methods=['POST'])\n",
        "def submit():\n",
        "    data = request.json\n",
        "    return jsonify(data), 201\n"
      ],
      "metadata": {
        "id": "hvjE04EqQM-q"
      }
    },
    {
      "cell_type": "markdown",
      "source": [
        "21. How would you secure a Flask API?\n",
        "> •\tUse authentication (JWT, OAuth).\n",
        "\n",
        "   •\tImplement rate limiting.\n",
        "\n",
        "  •\tValidate user input.\n",
        "\n",
        "  •\tUse HTTPS for encrypted communication\n"
      ],
      "metadata": {
        "id": "GHUEHc9hQdHY"
      }
    },
    {
      "cell_type": "markdown",
      "source": [
        "22. What is the significance of the Flask-RESTful extension?\n",
        "> Flask-RESTful simplifies REST API development by providing tools for routing, request parsing, and response formatting.\n"
      ],
      "metadata": {
        "id": "WmbbbpwRQyHv"
      }
    },
    {
      "cell_type": "markdown",
      "source": [
        "23. What is the role of Flask’s session object?\n",
        "> The session object stores user-specific data across requests\n"
      ],
      "metadata": {
        "id": "35_p4wegQ-QG"
      }
    },
    {
      "cell_type": "markdown",
      "source": [
        "**Practical**"
      ],
      "metadata": {
        "id": "nOkawWsjRM-3"
      }
    },
    {
      "cell_type": "code",
      "source": [
        "# 1. How do you create a basic Flask application?\n",
        "\"\"\"\n",
        "from flask import Flask\n",
        "\n",
        "app = Flask(__name__)\n",
        "\n",
        "@app.route('/')\n",
        "def home():\n",
        "    return \"Hello, Flask!\"\n",
        "\n",
        "if __name__ == '__main__':\n",
        "    app.run(debug=True)\n",
        "\"\"\""
      ],
      "metadata": {
        "colab": {
          "base_uri": "https://localhost:8080/",
          "height": 53
        },
        "id": "NZ9lAUe0TFAN",
        "outputId": "47aa9e8d-54f9-4f85-a1c1-1189bec9cea0"
      },
      "execution_count": 1,
      "outputs": [
        {
          "output_type": "execute_result",
          "data": {
            "text/plain": [
              "'\\nfrom flask import Flask\\n\\napp = Flask(__name__)\\n\\n@app.route(\\'/\\')\\ndef home():\\n    return \"Hello, Flask!\"\\n\\nif __name__ == \\'__main__\\':\\n    app.run(debug=True)\\n'"
            ],
            "application/vnd.google.colaboratory.intrinsic+json": {
              "type": "string"
            }
          },
          "metadata": {},
          "execution_count": 1
        }
      ]
    },
    {
      "cell_type": "code",
      "execution_count": 2,
      "metadata": {
        "colab": {
          "base_uri": "https://localhost:8080/",
          "height": 53
        },
        "id": "9e7ww1ljKOAX",
        "outputId": "ff5572ad-7e14-43c4-c7af-02e3d5fb72d4"
      },
      "outputs": [
        {
          "output_type": "execute_result",
          "data": {
            "text/plain": [
              "\"\\nfrom flask import Flask, send_from_directory\\n\\napp = Flask(__name__)\\n\\n@app.route('/static/<path:filename>')\\ndef serve_static(filename):\\n    return send_from_directory('static', filename)\\n\""
            ],
            "application/vnd.google.colaboratory.intrinsic+json": {
              "type": "string"
            }
          },
          "metadata": {},
          "execution_count": 2
        }
      ],
      "source": [
        "# 2. How do you serve static files like images or CSS in Flask?\n",
        "\"\"\"\n",
        "from flask import Flask, send_from_directory\n",
        "\n",
        "app = Flask(__name__)\n",
        "\n",
        "@app.route('/static/<path:filename>')\n",
        "def serve_static(filename):\n",
        "    return send_from_directory('static', filename)\n",
        "\"\"\""
      ]
    },
    {
      "cell_type": "code",
      "source": [
        "# 3. How do you define different routes with different HTTP methods in Flask?\n",
        "\"\"\"\n",
        "from flask import Flask, request\n",
        "\n",
        "app = Flask(__name__)\n",
        "\n",
        "@app.route('/get', methods=['GET'])\n",
        "def get_data():\n",
        "    return \"This is a GET request\"\n",
        "    \"\"\""
      ],
      "metadata": {
        "colab": {
          "base_uri": "https://localhost:8080/",
          "height": 53
        },
        "id": "SpizT0uYUgLX",
        "outputId": "836d32e1-02e6-49bf-ede8-b3bceb0a2080"
      },
      "execution_count": 3,
      "outputs": [
        {
          "output_type": "execute_result",
          "data": {
            "text/plain": [
              "'\\nfrom flask import Flask, request\\n\\napp = Flask(__name__)\\n\\n@app.route(\\'/get\\', methods=[\\'GET\\'])\\ndef get_data():\\n    return \"This is a GET request\"\\n    '"
            ],
            "application/vnd.google.colaboratory.intrinsic+json": {
              "type": "string"
            }
          },
          "metadata": {},
          "execution_count": 3
        }
      ]
    },
    {
      "cell_type": "code",
      "source": [
        "# 4. How do you render HTML templates in Flask?\n",
        "\"\"\"\n",
        "from flask import Flask, render_template\n",
        "\n",
        "app = Flask(__name__)\n",
        "\n",
        "@app.route('/')\n",
        "def home():\n",
        "    return render_template('index.html')\n",
        "\"\"\""
      ],
      "metadata": {
        "colab": {
          "base_uri": "https://localhost:8080/",
          "height": 35
        },
        "id": "6FqmoHmlVcFe",
        "outputId": "d02b1e3a-f2f7-4cfc-a139-c9b5e735971f"
      },
      "execution_count": 4,
      "outputs": [
        {
          "output_type": "execute_result",
          "data": {
            "text/plain": [
              "\"\\nfrom flask import Flask, render_template\\n\\napp = Flask(__name__)\\n\\n@app.route('/')\\ndef home():\\n    return render_template('index.html')\\n\""
            ],
            "application/vnd.google.colaboratory.intrinsic+json": {
              "type": "string"
            }
          },
          "metadata": {},
          "execution_count": 4
        }
      ]
    },
    {
      "cell_type": "code",
      "source": [
        "# 5. How can you generate URLs for routes in Flask using url_for?\n",
        "\"\"\"\n",
        "from flask import Flask, url_for\n",
        "\n",
        "app = Flask(__name__)\n",
        "\n",
        "@app.route('/')\n",
        "def home():\n",
        "    return \"Home page\"\n",
        "\n",
        "@app.route('/about')\n",
        "def about():\n",
        "    return \"About page\"\n",
        "    \"\"\""
      ],
      "metadata": {
        "colab": {
          "base_uri": "https://localhost:8080/",
          "height": 53
        },
        "id": "CmeAdWN8WMlh",
        "outputId": "c6987457-30ee-45ee-a4a9-51c6eced8cd0"
      },
      "execution_count": 5,
      "outputs": [
        {
          "output_type": "execute_result",
          "data": {
            "text/plain": [
              "'\\nfrom flask import Flask, url_for\\n\\napp = Flask(__name__)\\n\\n@app.route(\\'/\\')\\ndef home():\\n    return \"Home page\"\\n\\n@app.route(\\'/about\\')\\ndef about():\\n    return \"About page\"\\n    '"
            ],
            "application/vnd.google.colaboratory.intrinsic+json": {
              "type": "string"
            }
          },
          "metadata": {},
          "execution_count": 5
        }
      ]
    },
    {
      "cell_type": "code",
      "source": [
        "# 6. How do you handle forms in Flask?\n",
        "\"\"\"\n",
        "from flask import Flask, render_template, request\n",
        "\n",
        "app = Flask(__name__)\n",
        "\n",
        "@app.route('/')\n",
        "def home():\n",
        "    return render_template('form.html')\n",
        "    \"\"\""
      ],
      "metadata": {
        "colab": {
          "base_uri": "https://localhost:8080/",
          "height": 35
        },
        "id": "Gex1w0BJWZRk",
        "outputId": "04634bf1-f40d-448d-de0e-98f625e09486"
      },
      "execution_count": 6,
      "outputs": [
        {
          "output_type": "execute_result",
          "data": {
            "text/plain": [
              "\"\\nfrom flask import Flask, render_template, request\\n\\napp = Flask(__name__)\\n\\n@app.route('/')\\ndef home():\\n    return render_template('form.html')\\n    \""
            ],
            "application/vnd.google.colaboratory.intrinsic+json": {
              "type": "string"
            }
          },
          "metadata": {},
          "execution_count": 6
        }
      ]
    },
    {
      "cell_type": "code",
      "source": [
        "# 7. How can you validate form data in Flask?\n",
        "\"\"\"\n",
        "from flask import Flask, render_template, request\n",
        "\n",
        "app = Flask(__name__)\n",
        "\n",
        "@app.route('/')\n",
        "def home():\n",
        "    return render_template('form.html')\n",
        "    \"\"\"\n",
        ""
      ],
      "metadata": {
        "colab": {
          "base_uri": "https://localhost:8080/",
          "height": 35
        },
        "id": "JRBZcrgtWk5f",
        "outputId": "47a1b402-e880-49f1-88e3-f0ad7e3568fa"
      },
      "execution_count": 7,
      "outputs": [
        {
          "output_type": "execute_result",
          "data": {
            "text/plain": [
              "\"\\nfrom flask import Flask, render_template, request\\n\\napp = Flask(__name__)\\n\\n@app.route('/')\\ndef home():\\n    return render_template('form.html')\\n    \""
            ],
            "application/vnd.google.colaboratory.intrinsic+json": {
              "type": "string"
            }
          },
          "metadata": {},
          "execution_count": 7
        }
      ]
    },
    {
      "cell_type": "code",
      "source": [
        "# 8. How do you manage sessions in Flask?\n",
        "\"\"\"\n",
        "from flask import Flask, session\n",
        "\n",
        "app = Flask(__name__)\n",
        "app.secret_key = 'secretkey'\n",
        "\n",
        "@app.route('/set_session')\n",
        "def set_session():\n",
        "    session['username'] = 'JohnDoe'\n",
        "    return \"Session set!\"\n",
        "\n",
        "@app.route('/get_session')\n",
        "def get_session():\n",
        "    return session.get('username', 'No session found!')\n",
        "\n",
        "if __name__ == '__main__':\n",
        "    app.run(debug=True)\n",
        "\"\"\"\n",
        "\n",
        "\n"
      ],
      "metadata": {
        "colab": {
          "base_uri": "https://localhost:8080/",
          "height": 70
        },
        "id": "rJ-YpCVTXLsW",
        "outputId": "c879f245-cc26-4a16-b153-9dde9ac834d9"
      },
      "execution_count": 8,
      "outputs": [
        {
          "output_type": "execute_result",
          "data": {
            "text/plain": [
              "'\\nfrom flask import Flask, session\\n\\napp = Flask(__name__)\\napp.secret_key = \\'secretkey\\'\\n\\n@app.route(\\'/set_session\\')\\ndef set_session():\\n    session[\\'username\\'] = \\'JohnDoe\\'\\n    return \"Session set!\"\\n\\n@app.route(\\'/get_session\\')\\ndef get_session():\\n    return session.get(\\'username\\', \\'No session found!\\')\\n\\nif __name__ == \\'__main__\\':\\n    app.run(debug=True)\\n'"
            ],
            "application/vnd.google.colaboratory.intrinsic+json": {
              "type": "string"
            }
          },
          "metadata": {},
          "execution_count": 8
        }
      ]
    },
    {
      "cell_type": "code",
      "source": [
        "# 9. How do you redirect to a different route in Flask?\n",
        "\"\"\"\n",
        "from flask import Flask, redirect, url_for\n",
        "\n",
        "app = Flask(__name__)\n",
        "\n",
        "@app.route('/')\n",
        "def home():\n",
        "    return \"Home page\"\n",
        "\n",
        "@app.route('/redirect')\n",
        "def redirect_to_home():\n",
        "    return redirect(url_for('home'))\n",
        "    \"\"\""
      ],
      "metadata": {
        "colab": {
          "base_uri": "https://localhost:8080/",
          "height": 53
        },
        "id": "0z37FtEWXxKc",
        "outputId": "54de11f2-c16d-45ed-b6f2-15803e6673bb"
      },
      "execution_count": 9,
      "outputs": [
        {
          "output_type": "execute_result",
          "data": {
            "text/plain": [
              "'\\nfrom flask import Flask, redirect, url_for\\n\\napp = Flask(__name__)\\n\\n@app.route(\\'/\\')\\ndef home():\\n    return \"Home page\"\\n\\n@app.route(\\'/redirect\\')\\ndef redirect_to_home():\\n    return redirect(url_for(\\'home\\'))\\n    '"
            ],
            "application/vnd.google.colaboratory.intrinsic+json": {
              "type": "string"
            }
          },
          "metadata": {},
          "execution_count": 9
        }
      ]
    },
    {
      "cell_type": "code",
      "source": [
        "# 10. How do you handle errors in Flask (e.g., 404)?\n",
        "\"\"\"\n",
        "from flask import Flask, jsonify\n",
        "\n",
        "app = Flask(__name__)\n",
        "\n",
        "@app.errorhandler(404)\n",
        "def not_found(error):\n",
        "    return jsonify({'error': 'Not Found'}), 404\n",
        "    \"\"\""
      ],
      "metadata": {
        "colab": {
          "base_uri": "https://localhost:8080/",
          "height": 53
        },
        "id": "sVPwjeKHYMPR",
        "outputId": "117a4dac-41d3-41de-80bc-b62cdc330a12"
      },
      "execution_count": 10,
      "outputs": [
        {
          "output_type": "execute_result",
          "data": {
            "text/plain": [
              "\"\\nfrom flask import Flask, jsonify\\n\\napp = Flask(__name__)\\n\\n@app.errorhandler(404)\\ndef not_found(error):\\n    return jsonify({'error': 'Not Found'}), 404\\n    \""
            ],
            "application/vnd.google.colaboratory.intrinsic+json": {
              "type": "string"
            }
          },
          "metadata": {},
          "execution_count": 10
        }
      ]
    },
    {
      "cell_type": "code",
      "source": [
        "# 11. How do you structure a Flask app using Blueprints?\n",
        "\"\"\"\n",
        "from flask import Flask\n",
        "from blueprint_module import blueprint_name\n",
        "\n",
        "app = Flask(__name__)\n",
        "\n",
        "app.register_blueprint(blueprint_name)\n",
        "\"\"\""
      ],
      "metadata": {
        "colab": {
          "base_uri": "https://localhost:8080/",
          "height": 35
        },
        "id": "EqVs2Y0oYWzp",
        "outputId": "851c6f9f-b8b4-4621-ee8c-7ca91ae9a78c"
      },
      "execution_count": 11,
      "outputs": [
        {
          "output_type": "execute_result",
          "data": {
            "text/plain": [
              "'\\nfrom flask import Flask\\nfrom blueprint_module import blueprint_name\\n\\napp = Flask(__name__)\\n\\napp.register_blueprint(blueprint_name)\\n'"
            ],
            "application/vnd.google.colaboratory.intrinsic+json": {
              "type": "string"
            }
          },
          "metadata": {},
          "execution_count": 11
        }
      ]
    },
    {
      "cell_type": "code",
      "source": [
        "# 12. How do you define a custom Jinja filter in Flask?\n",
        "\"\"\"\n",
        "from flask import Flask\n",
        "\n",
        "app = Flask(__name__)\n",
        "\n",
        "@app.template_filter('custom_filter')\n",
        "def custom_filter(value):\n",
        "    return value.upper()\n",
        "    \"\"\""
      ],
      "metadata": {
        "colab": {
          "base_uri": "https://localhost:8080/",
          "height": 35
        },
        "id": "G4WXy_vZYsue",
        "outputId": "c306e731-7d3c-48ef-8c30-9a90d8d4c3cc"
      },
      "execution_count": 12,
      "outputs": [
        {
          "output_type": "execute_result",
          "data": {
            "text/plain": [
              "\"\\nfrom flask import Flask\\n\\napp = Flask(__name__)\\n\\n@app.template_filter('custom_filter')\\ndef custom_filter(value):\\n    return value.upper()\\n    \""
            ],
            "application/vnd.google.colaboratory.intrinsic+json": {
              "type": "string"
            }
          },
          "metadata": {},
          "execution_count": 12
        }
      ]
    },
    {
      "cell_type": "code",
      "source": [
        "# 13. How can you redirect with query parameters in Flask?\n",
        "\"\"\"\n",
        "from flask import Flask, redirect, url_for\n",
        "\n",
        "app = Flask(__name__)\n",
        "\n",
        "@app.route('/')\n",
        "def home():\n",
        "    return \"Home page\"\n",
        "    \"\"\""
      ],
      "metadata": {
        "colab": {
          "base_uri": "https://localhost:8080/",
          "height": 35
        },
        "id": "wPQv-lSzY2M6",
        "outputId": "26964156-b526-49df-ae58-2ce5651d93fa"
      },
      "execution_count": 13,
      "outputs": [
        {
          "output_type": "execute_result",
          "data": {
            "text/plain": [
              "'\\nfrom flask import Flask, redirect, url_for\\n\\napp = Flask(__name__)\\n\\n@app.route(\\'/\\')\\ndef home():\\n    return \"Home page\"\\n    '"
            ],
            "application/vnd.google.colaboratory.intrinsic+json": {
              "type": "string"
            }
          },
          "metadata": {},
          "execution_count": 13
        }
      ]
    },
    {
      "cell_type": "code",
      "source": [
        "# 14. How do you return JSON responses in Flask?\n",
        "\"\"\"\n",
        "from flask import Flask, jsonify\n",
        "\n",
        "app = Flask(__name__)\n",
        "\n",
        "@app.route('/json')\n",
        "def json_response():\n",
        "    data = {'message': 'Hello, JSON!'}\n",
        "    return jsonify(data)\n",
        "    \"\"\"\n"
      ],
      "metadata": {
        "colab": {
          "base_uri": "https://localhost:8080/",
          "height": 53
        },
        "id": "Pi_qa2PAZUUM",
        "outputId": "77deb0cb-a8d5-4514-91e3-1d0f7551e76a"
      },
      "execution_count": 14,
      "outputs": [
        {
          "output_type": "execute_result",
          "data": {
            "text/plain": [
              "\"\\nfrom flask import Flask, jsonify\\n\\napp = Flask(__name__)\\n\\n@app.route('/json')\\ndef json_response():\\n    data = {'message': 'Hello, JSON!'}\\n    return jsonify(data)\\n    \""
            ],
            "application/vnd.google.colaboratory.intrinsic+json": {
              "type": "string"
            }
          },
          "metadata": {},
          "execution_count": 14
        }
      ]
    },
    {
      "cell_type": "code",
      "source": [
        "# 15. How do you capture URL parameters in Flask?\n",
        "\"\"\"\n",
        "from flask import Flask, request\n",
        "\n",
        "app = Flask(__name__)\n",
        "\n",
        "@app.route('/user/<username>')\n",
        "def user_profile(username):\n",
        "    return f'Hello, {username}!'\n",
        "    \"\"\""
      ],
      "metadata": {
        "colab": {
          "base_uri": "https://localhost:8080/",
          "height": 53
        },
        "id": "JyfuVdGEZf7l",
        "outputId": "86cfe072-f218-433e-cdb7-bf6da5b48dcd"
      },
      "execution_count": 15,
      "outputs": [
        {
          "output_type": "execute_result",
          "data": {
            "text/plain": [
              "\"\\nfrom flask import Flask, request\\n\\napp = Flask(__name__)\\n\\n@app.route('/user/<username>')\\ndef user_profile(username):\\n    return f'Hello, {username}!'\\n    \""
            ],
            "application/vnd.google.colaboratory.intrinsic+json": {
              "type": "string"
            }
          },
          "metadata": {},
          "execution_count": 15
        }
      ]
    },
    {
      "cell_type": "code",
      "source": [],
      "metadata": {
        "id": "eyhdDrU6Zrf9"
      },
      "execution_count": null,
      "outputs": []
    }
  ]
}